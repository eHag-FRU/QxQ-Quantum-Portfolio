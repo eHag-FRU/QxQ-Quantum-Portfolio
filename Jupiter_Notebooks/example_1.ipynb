{
 "cells": [
  {
   "cell_type": "markdown",
   "id": "95d9542b",
   "metadata": {},
   "source": [
    "# Poly-X Gate\n",
    "\n",
    "## Qiskit Representation\n",
    "\n",
    "### This is the process of a one quibit circuit being built, having an X-Gate and measurement applied, then ploting the results goes in code"
   ]
  },
  {
   "cell_type": "code",
   "execution_count": 19,
   "id": "d5eeaee7",
   "metadata": {},
   "outputs": [
    {
     "name": "stderr",
     "output_type": "stream",
     "text": [
      "ibmqfactory.load_account:WARNING:2021-05-25 01:54:22,806: Credentials are already in use. The existing account in the session will be replaced.\n"
     ]
    }
   ],
   "source": [
    "import numpy as np\n",
    "import qiskit as q\n",
    "# Importing standard Qiskit libraries\n",
    "from qiskit import QuantumCircuit, transpile, Aer, IBMQ\n",
    "from qiskit.tools.jupyter import *\n",
    "from qiskit.visualization import *\n",
    "from ibm_quantum_widgets import *\n",
    "\n",
    "# Loading your IBM Quantum account(s)\n",
    "provider = IBMQ.load_account()"
   ]
  },
  {
   "cell_type": "markdown",
   "id": "50242ad5",
   "metadata": {},
   "source": [
    " "
   ]
  },
  {
   "cell_type": "markdown",
   "id": "e1dfd34e",
   "metadata": {},
   "source": [
    " "
   ]
  },
  {
   "cell_type": "markdown",
   "id": "9571ea38",
   "metadata": {},
   "source": [
    "# Constructing the circuit"
   ]
  },
  {
   "cell_type": "markdown",
   "id": "378f3811",
   "metadata": {},
   "source": [
    "## Makes the quantum circuit \"foundation\". The first parameter is the number of qubits (quantum bits) the second parameter is the number of cbits (classical bits), this lets us store the information to be read by the simulator"
   ]
  },
  {
   "cell_type": "code",
   "execution_count": null,
   "id": "90877a5c",
   "metadata": {},
   "outputs": [],
   "source": [
    "xGateExample = QuantumCircuit(1,1)"
   ]
  },
  {
   "cell_type": "markdown",
   "id": "65d18e5c",
   "metadata": {},
   "source": [
    " "
   ]
  },
  {
   "cell_type": "markdown",
   "id": "1ead37d4",
   "metadata": {},
   "source": [
    "## Adds an Poly-X gate to the first qubit (represented by the number zero)"
   ]
  },
  {
   "cell_type": "code",
   "execution_count": null,
   "id": "e6952442",
   "metadata": {},
   "outputs": [],
   "source": [
    "xGateExample.x(0)"
   ]
  },
  {
   "cell_type": "markdown",
   "id": "833b04df",
   "metadata": {},
   "source": [
    " "
   ]
  },
  {
   "cell_type": "markdown",
   "id": "7e715fbd",
   "metadata": {},
   "source": [
    "## Adds an measurement operator to the first qubit and results stored in the first cbit"
   ]
  },
  {
   "cell_type": "code",
   "execution_count": null,
   "id": "a15acaa4",
   "metadata": {},
   "outputs": [],
   "source": [
    "xGateExample.measure(0,0)"
   ]
  },
  {
   "cell_type": "markdown",
   "id": "ea7b53e5",
   "metadata": {},
   "source": [
    " "
   ]
  },
  {
   "cell_type": "markdown",
   "id": "175905ea",
   "metadata": {},
   "source": [
    "## Draws the circuit out for a visual representation"
   ]
  },
  {
   "cell_type": "code",
   "execution_count": 20,
   "id": "63b16a3c",
   "metadata": {
    "scrolled": true
   },
   "outputs": [
    {
     "data": {
      "image/png": "[encoded data removed]",
      "text/plain": [
       "<Figure size 193.726x144.48 with 1 Axes>"
      ]
     },
     "execution_count": 20,
     "metadata": {},
     "output_type": "execute_result"
    }
   ],
   "source": [
    "xGateExample.draw()"
   ]
  },
  {
   "cell_type": "markdown",
   "id": "12dc57b5",
   "metadata": {},
   "source": [
    " "
   ]
  },
  {
   "cell_type": "markdown",
   "id": "3cd3c46b",
   "metadata": {},
   "source": [
    " "
   ]
  },
  {
   "cell_type": "markdown",
   "id": "057087cf",
   "metadata": {},
   "source": [
    "# Choosing the backend and gathering results"
   ]
  },
  {
   "cell_type": "markdown",
   "id": "f56d7e37",
   "metadata": {},
   "source": [
    "## Choosing a backend from the avaible computers with my account. The QASM Simulator is a regular computer doing this as a simulation to give an idea of what probabilities of the outcomes are for the circuit"
   ]
  },
  {
   "cell_type": "code",
   "execution_count": 21,
   "id": "326d35ed",
   "metadata": {},
   "outputs": [],
   "source": [
    "backend = Aer.get_backend(\"qasm_simulator\")"
   ]
  },
  {
   "cell_type": "markdown",
   "id": "364325e8",
   "metadata": {},
   "source": [
    " "
   ]
  },
  {
   "cell_type": "markdown",
   "id": "7af5b881",
   "metadata": {},
   "source": [
    "## Executes the circuit made (argument one [xGateExample]) on the backend (argument two [backend]) "
   ]
  },
  {
   "cell_type": "code",
   "execution_count": 22,
   "id": "90f1592d",
   "metadata": {},
   "outputs": [],
   "source": [
    "job = q.execute(xGateExample, backend)"
   ]
  },
  {
   "cell_type": "markdown",
   "id": "1494fc18",
   "metadata": {},
   "source": [
    " "
   ]
  },
  {
   "cell_type": "markdown",
   "id": "da8796c3",
   "metadata": {},
   "source": [
    "## Gathers the results from the execution done in the previous statement"
   ]
  },
  {
   "cell_type": "code",
   "execution_count": 23,
   "id": "a5ab54fd",
   "metadata": {},
   "outputs": [],
   "source": [
    "results = job.result()"
   ]
  },
  {
   "cell_type": "markdown",
   "id": "97b97d8c",
   "metadata": {},
   "source": [
    " "
   ]
  },
  {
   "cell_type": "markdown",
   "id": "2d39769d",
   "metadata": {},
   "source": [
    "## Gathers the counts of how many times 1 or 0 was the result"
   ]
  },
  {
   "cell_type": "code",
   "execution_count": 24,
   "id": "9952dadf",
   "metadata": {},
   "outputs": [],
   "source": [
    "counts = results.get_counts()"
   ]
  },
  {
   "cell_type": "markdown",
   "id": "3f653950",
   "metadata": {},
   "source": [
    " "
   ]
  },
  {
   "cell_type": "markdown",
   "id": "e548081b",
   "metadata": {},
   "source": [
    " "
   ]
  },
  {
   "cell_type": "markdown",
   "id": "e1f8f3a9",
   "metadata": {},
   "source": [
    "# Results"
   ]
  },
  {
   "cell_type": "markdown",
   "id": "2ee1e7e9",
   "metadata": {},
   "source": [
    "## Plots the counts on a histogram shown below"
   ]
  },
  {
   "cell_type": "code",
   "execution_count": 25,
   "id": "6e49ed50",
   "metadata": {},
   "outputs": [
    {
     "data": {
      "image/png": "[encoded data removed]",
      "text/plain": [
       "<Figure size 504x360 with 1 Axes>"
      ]
     },
     "execution_count": 25,
     "metadata": {},
     "output_type": "execute_result"
    }
   ],
   "source": [
    "plot_histogram(counts)"
   ]
  },
  {
   "cell_type": "markdown",
   "id": "e4c2ed9c",
   "metadata": {},
   "source": [
    "### The above shows that the first qubits value after measurement is 1 with 100% probability"
   ]
  }
 ],
 "metadata": {
  "kernelspec": {
   "display_name": "Python 3",
   "language": "python",
   "name": "python3"
  },
  "language_info": {
   "codemirror_mode": {
    "name": "ipython",
    "version": 3
   },
   "file_extension": ".py",
   "mimetype": "text/x-python",
   "name": "python",
   "nbconvert_exporter": "python",
   "pygments_lexer": "ipython3",
   "version": "3.8.8"
  }
 },
 "nbformat": 4,
 "nbformat_minor": 5
}
